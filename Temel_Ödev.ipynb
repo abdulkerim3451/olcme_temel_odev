{
 "cells": [
  {
   "cell_type": "markdown",
   "metadata": {},
   "source": [
    "# Temel Ödevler "
   ]
  },
  {
   "cell_type": "markdown",
   "metadata": {},
   "source": [
    "## Kütüphaneleri Çağırma"
   ]
  },
  {
   "cell_type": "code",
   "execution_count": 1,
   "metadata": {},
   "outputs": [],
   "source": [
    "import math\n",
    "import pandas as pd"
   ]
  },
  {
   "cell_type": "markdown",
   "metadata": {},
   "source": [
    "## Excel Dosyasını Okuma"
   ]
  },
  {
   "cell_type": "code",
   "execution_count": 2,
   "metadata": {},
   "outputs": [],
   "source": [
    "df=pd.read_excel(\"temel.xlsx\")"
   ]
  },
  {
   "cell_type": "code",
   "execution_count": 3,
   "metadata": {},
   "outputs": [
    {
     "data": {
      "text/html": [
       "<div>\n",
       "<style scoped>\n",
       "    .dataframe tbody tr th:only-of-type {\n",
       "        vertical-align: middle;\n",
       "    }\n",
       "\n",
       "    .dataframe tbody tr th {\n",
       "        vertical-align: top;\n",
       "    }\n",
       "\n",
       "    .dataframe thead th {\n",
       "        text-align: right;\n",
       "    }\n",
       "</style>\n",
       "<table border=\"1\" class=\"dataframe\">\n",
       "  <thead>\n",
       "    <tr style=\"text-align: right;\">\n",
       "      <th></th>\n",
       "      <th>NOKTA</th>\n",
       "      <th>Y</th>\n",
       "      <th>X</th>\n",
       "      <th>S(Mesafe)</th>\n",
       "      <th>b(Kırılma_Açısı)</th>\n",
       "    </tr>\n",
       "  </thead>\n",
       "  <tbody>\n",
       "    <tr>\n",
       "      <td>0</td>\n",
       "      <td>A</td>\n",
       "      <td>9417.40</td>\n",
       "      <td>8418.62</td>\n",
       "      <td>347.354</td>\n",
       "      <td>120.142</td>\n",
       "    </tr>\n",
       "    <tr>\n",
       "      <td>1</td>\n",
       "      <td>B</td>\n",
       "      <td>9348.11</td>\n",
       "      <td>8482.38</td>\n",
       "      <td>257.450</td>\n",
       "      <td>130.750</td>\n",
       "    </tr>\n",
       "  </tbody>\n",
       "</table>\n",
       "</div>"
      ],
      "text/plain": [
       "  NOKTA        Y        X  S(Mesafe)  b(Kırılma_Açısı)\n",
       "0     A  9417.40  8418.62    347.354           120.142\n",
       "1     B  9348.11  8482.38    257.450           130.750"
      ]
     },
     "execution_count": 3,
     "metadata": {},
     "output_type": "execute_result"
    }
   ],
   "source": [
    "df.head()"
   ]
  },
  {
   "cell_type": "markdown",
   "metadata": {},
   "source": [
    "## 1. Temel Ödev"
   ]
  },
  {
   "cell_type": "code",
   "execution_count": 4,
   "metadata": {},
   "outputs": [],
   "source": [
    "yA=df.iloc[0,1]\n",
    "xA=df.iloc[0,2]\n",
    "mA=df.iloc[0,3]\n",
    "sA=df.iloc[0,4]"
   ]
  },
  {
   "cell_type": "code",
   "execution_count": 5,
   "metadata": {},
   "outputs": [
    {
     "name": "stdout",
     "output_type": "stream",
     "text": [
      "YB:9747.513042203998\n",
      "XB:8310.54511539298\n"
     ]
    }
   ],
   "source": [
    "yB=yA+mA*math.sin((sA)/(200/math.pi))\n",
    "xB=xA+mA*math.cos((sA)/(200/math.pi))\n",
    "print(\"YB:\"+str(yB))\n",
    "print(\"XB:\"+str(xB))"
   ]
  },
  {
   "cell_type": "markdown",
   "metadata": {},
   "source": [
    "## 2. Temel Ödev"
   ]
  },
  {
   "cell_type": "code",
   "execution_count": 6,
   "metadata": {},
   "outputs": [],
   "source": [
    "yB=df.iloc[1,1]\n",
    "xB=df.iloc[1,2]\n",
    "yA=df.iloc[0,1]\n",
    "xA=df.iloc[0,2]"
   ]
  },
  {
   "cell_type": "code",
   "execution_count": 7,
   "metadata": {},
   "outputs": [
    {
     "name": "stdout",
     "output_type": "stream",
     "text": [
      "Semt Açısı AB:347.3555188252996\n"
     ]
    }
   ],
   "source": [
    "c=(yB-yA)/(xB-xA)\n",
    "d=math.atan(c)*(200/math.pi)\n",
    "e=(yB - yA)\n",
    "f=(xB-xA)\n",
    "\n",
    "if f < 0 or e>0 and f<0:\n",
    "    print(\"Semt Açısı AB:\"+str(d+200))\n",
    "elif e < 0 and f > 0:\n",
    "    print(\"Semt Açısı AB:\"+str(d + 400))\n",
    "else:\n",
    "    print(\"Semt Açısı AB:\"+str(d))"
   ]
  },
  {
   "cell_type": "markdown",
   "metadata": {},
   "source": [
    "## 3. Temel Ödev"
   ]
  },
  {
   "cell_type": "code",
   "execution_count": 8,
   "metadata": {},
   "outputs": [
    {
     "data": {
      "text/html": [
       "<div>\n",
       "<style scoped>\n",
       "    .dataframe tbody tr th:only-of-type {\n",
       "        vertical-align: middle;\n",
       "    }\n",
       "\n",
       "    .dataframe tbody tr th {\n",
       "        vertical-align: top;\n",
       "    }\n",
       "\n",
       "    .dataframe thead th {\n",
       "        text-align: right;\n",
       "    }\n",
       "</style>\n",
       "<table border=\"1\" class=\"dataframe\">\n",
       "  <thead>\n",
       "    <tr style=\"text-align: right;\">\n",
       "      <th></th>\n",
       "      <th>NOKTA</th>\n",
       "      <th>Y</th>\n",
       "      <th>X</th>\n",
       "      <th>S(Mesafe)</th>\n",
       "      <th>b(Kırılma_Açısı)</th>\n",
       "    </tr>\n",
       "  </thead>\n",
       "  <tbody>\n",
       "    <tr>\n",
       "      <td>0</td>\n",
       "      <td>A</td>\n",
       "      <td>9417.40</td>\n",
       "      <td>8418.62</td>\n",
       "      <td>347.354</td>\n",
       "      <td>120.142</td>\n",
       "    </tr>\n",
       "    <tr>\n",
       "      <td>1</td>\n",
       "      <td>B</td>\n",
       "      <td>9348.11</td>\n",
       "      <td>8482.38</td>\n",
       "      <td>257.450</td>\n",
       "      <td>130.750</td>\n",
       "    </tr>\n",
       "  </tbody>\n",
       "</table>\n",
       "</div>"
      ],
      "text/plain": [
       "  NOKTA        Y        X  S(Mesafe)  b(Kırılma_Açısı)\n",
       "0     A  9417.40  8418.62    347.354           120.142\n",
       "1     B  9348.11  8482.38    257.450           130.750"
      ]
     },
     "execution_count": 8,
     "metadata": {},
     "output_type": "execute_result"
    }
   ],
   "source": [
    "df.head()"
   ]
  },
  {
   "cell_type": "markdown",
   "metadata": {},
   "source": [
    "#### AB Semt Açısı"
   ]
  },
  {
   "cell_type": "code",
   "execution_count": 9,
   "metadata": {},
   "outputs": [
    {
     "name": "stdout",
     "output_type": "stream",
     "text": [
      "Semt Açısı AB:347.3555188252996\n"
     ]
    }
   ],
   "source": [
    "c=(yB-yA)/(xB-xA)\n",
    "AB=math.atan(c)*(200/math.pi)\n",
    "e=(yB - yA)\n",
    "f=(xB-xA)\n",
    "\n",
    "if f < 0 or e>0 and f<0:\n",
    "    AB=AB+200\n",
    "    print(\"Semt Açısı AB:\"+str(AB))\n",
    "elif e < 0 and f > 0:\n",
    "    AB=AB+400\n",
    "    print(\"Semt Açısı AB:\"+str(AB))\n",
    "else:\n",
    "    AB=math.atan(c)*(200/math.pi)\n",
    "    print(\"Semt Açısı AB:\"+str(AB))"
   ]
  },
  {
   "cell_type": "markdown",
   "metadata": {},
   "source": [
    "#### Kırılma Açısı"
   ]
  },
  {
   "cell_type": "code",
   "execution_count": 13,
   "metadata": {},
   "outputs": [],
   "source": [
    "bA=df.iloc[0,4]"
   ]
  },
  {
   "cell_type": "code",
   "execution_count": 16,
   "metadata": {},
   "outputs": [
    {
     "name": "stdout",
     "output_type": "stream",
     "text": [
      "Semt Açısı:267.4975188252996\n"
     ]
    }
   ],
   "source": [
    "n=AB+bA\n",
    "if n<200:\n",
    "    n+200\n",
    "    print(\"Semt Açısı:\"+str(n+200))\n",
    "elif 200<n<400 or 400<n<600:\n",
    "    print(\"Semt Açısı:\"+str(n-200))\n",
    "else:\n",
    "    print(\"Semt Açısı:\"+str(n-600))"
   ]
  },
  {
   "cell_type": "markdown",
   "metadata": {},
   "source": [
    "## 4. Temel Ödev"
   ]
  },
  {
   "cell_type": "code",
   "execution_count": 17,
   "metadata": {},
   "outputs": [],
   "source": [
    "yB=df.iloc[1,1]\n",
    "xB=df.iloc[1,2]\n",
    "yA=df.iloc[0,1]\n",
    "xA=df.iloc[0,2]"
   ]
  },
  {
   "cell_type": "markdown",
   "metadata": {},
   "source": [
    "#### AB Semt Açısı"
   ]
  },
  {
   "cell_type": "code",
   "execution_count": 18,
   "metadata": {},
   "outputs": [
    {
     "name": "stdout",
     "output_type": "stream",
     "text": [
      "Semt Açısı AB:347.3555188252996\n"
     ]
    }
   ],
   "source": [
    "c=(yB-yA)/(xB-xA)\n",
    "AB=math.atan(c)*(200/math.pi)\n",
    "e=(yB - yA)\n",
    "f=(xB-xA)\n",
    "\n",
    "if f < 0 or e>0 and f<0:\n",
    "    AB=AB+200\n",
    "    print(\"Semt Açısı AB:\"+str(AB))\n",
    "elif e < 0 and f > 0:\n",
    "    AB=AB+400\n",
    "    print(\"Semt Açısı AB:\"+str(AB))\n",
    "else:\n",
    "    AB=math.atan(c)*(200/math.pi)\n",
    "    print(\"Semt Açısı AB:\"+str(AB))"
   ]
  },
  {
   "cell_type": "markdown",
   "metadata": {},
   "source": [
    "#### BA Semt Açısı"
   ]
  },
  {
   "cell_type": "code",
   "execution_count": 19,
   "metadata": {},
   "outputs": [
    {
     "name": "stdout",
     "output_type": "stream",
     "text": [
      "Semt Açısı AB:147.3555188252996\n"
     ]
    }
   ],
   "source": [
    "c=(yA-yB)/(xA-xB)\n",
    "BA=math.atan(c)*(200/math.pi)\n",
    "e=(yA- yB)\n",
    "f=(xA-xB)\n",
    "\n",
    "if f < 0 or e>0 and f<0:\n",
    "    BA=BA+200\n",
    "    print(\"Semt Açısı AB:\"+str(BA))\n",
    "elif e < 0 and f > 0:\n",
    "    BA=BA+400\n",
    "    print(\"Semt Açısı AB:\"+str(BA))\n",
    "else:\n",
    "    BA=math.atan(c)*(200/math.pi)\n",
    "    print(\"Semt Açısı AB:\"+str(BA))"
   ]
  },
  {
   "cell_type": "markdown",
   "metadata": {},
   "source": [
    "#### AC Semt Açısı"
   ]
  },
  {
   "cell_type": "code",
   "execution_count": 20,
   "metadata": {},
   "outputs": [
    {
     "name": "stdout",
     "output_type": "stream",
     "text": [
      "AC Semt Açısı:200.0\n"
     ]
    }
   ],
   "source": [
    "AC=AB-BA\n",
    "if AC>400:\n",
    "    AC=400-AC\n",
    "else:\n",
    "    print(\"AC Semt Açısı:\"+str(AC))"
   ]
  }
 ],
 "metadata": {
  "kernelspec": {
   "display_name": "Python 3",
   "language": "python",
   "name": "python3"
  },
  "language_info": {
   "codemirror_mode": {
    "name": "ipython",
    "version": 3
   },
   "file_extension": ".py",
   "mimetype": "text/x-python",
   "name": "python",
   "nbconvert_exporter": "python",
   "pygments_lexer": "ipython3",
   "version": "3.7.4"
  }
 },
 "nbformat": 4,
 "nbformat_minor": 4
}
